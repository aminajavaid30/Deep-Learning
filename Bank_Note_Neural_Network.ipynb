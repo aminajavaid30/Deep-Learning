{
 "cells": [
  {
   "cell_type": "markdown",
   "id": "5dafb67f",
   "metadata": {},
   "source": [
    "# Basic Neural Network\n",
    "## Keras"
   ]
  },
  {
   "cell_type": "code",
   "execution_count": 47,
   "id": "1c6b2ebd",
   "metadata": {},
   "outputs": [],
   "source": [
    "import warnings\n",
    "warnings.filterwarnings('ignore')"
   ]
  },
  {
   "cell_type": "code",
   "execution_count": 6,
   "id": "f3512e4f-91fb-41e6-85fb-1547cace743c",
   "metadata": {},
   "outputs": [],
   "source": [
    "# import libraries\n",
    "import numpy as np\n",
    "from numpy import genfromtxt"
   ]
  },
  {
   "cell_type": "code",
   "execution_count": 7,
   "id": "2e9cbb0c-dd77-4f36-bfb6-2ceacd7d5cd3",
   "metadata": {},
   "outputs": [
    {
     "data": {
      "text/plain": [
       "array([[  3.6216 ,   8.6661 ,  -2.8073 ,  -0.44699,   0.     ],\n",
       "       [  4.5459 ,   8.1674 ,  -2.4586 ,  -1.4621 ,   0.     ],\n",
       "       [  3.866  ,  -2.6383 ,   1.9242 ,   0.10645,   0.     ],\n",
       "       ...,\n",
       "       [ -3.7503 , -13.4586 ,  17.5932 ,  -2.7771 ,   1.     ],\n",
       "       [ -3.5637 ,  -8.3827 ,  12.393  ,  -1.2823 ,   1.     ],\n",
       "       [ -2.5419 ,  -0.65804,   2.6842 ,   1.1952 ,   1.     ]])"
      ]
     },
     "execution_count": 7,
     "metadata": {},
     "output_type": "execute_result"
    }
   ],
   "source": [
    "# load the dataset\n",
    "data = genfromtxt('bank_note_data.txt', delimiter=',')\n",
    "data"
   ]
  },
  {
   "cell_type": "code",
   "execution_count": 8,
   "id": "9b595b2d-f937-49ec-a325-b6c24984e415",
   "metadata": {},
   "outputs": [
    {
     "data": {
      "text/plain": [
       "array([0., 0., 0., ..., 1., 1., 1.])"
      ]
     },
     "execution_count": 8,
     "metadata": {},
     "output_type": "execute_result"
    }
   ],
   "source": [
    "labels = data[:,4]\n",
    "labels"
   ]
  },
  {
   "cell_type": "code",
   "execution_count": 9,
   "id": "a1415cd9-30c1-4501-8e2d-44c02f324408",
   "metadata": {},
   "outputs": [
    {
     "data": {
      "text/plain": [
       "array([[  3.6216 ,   8.6661 ,  -2.8073 ,  -0.44699],\n",
       "       [  4.5459 ,   8.1674 ,  -2.4586 ,  -1.4621 ],\n",
       "       [  3.866  ,  -2.6383 ,   1.9242 ,   0.10645],\n",
       "       ...,\n",
       "       [ -3.7503 , -13.4586 ,  17.5932 ,  -2.7771 ],\n",
       "       [ -3.5637 ,  -8.3827 ,  12.393  ,  -1.2823 ],\n",
       "       [ -2.5419 ,  -0.65804,   2.6842 ,   1.1952 ]])"
      ]
     },
     "execution_count": 9,
     "metadata": {},
     "output_type": "execute_result"
    }
   ],
   "source": [
    "features = data[:,0:4]\n",
    "features"
   ]
  },
  {
   "cell_type": "code",
   "execution_count": 10,
   "id": "046ccb4a-b3a9-4e05-b337-7a5f8ffe5fea",
   "metadata": {},
   "outputs": [],
   "source": [
    "X = features\n",
    "y = labels"
   ]
  },
  {
   "cell_type": "markdown",
   "id": "fd41781f-6101-4d22-83e5-30460c16d921",
   "metadata": {},
   "source": [
    "### Train Test Split"
   ]
  },
  {
   "cell_type": "code",
   "execution_count": 11,
   "id": "a13456e0-6ab7-4dc8-85b8-520fe7b87c3d",
   "metadata": {},
   "outputs": [],
   "source": [
    "from sklearn.model_selection import train_test_split"
   ]
  },
  {
   "cell_type": "markdown",
   "id": "8c794ecc-607c-45ce-9893-f7e01c78c665",
   "metadata": {},
   "source": [
    "train --- validation/dev-set --- test\n",
    "\n",
    "80/20 - 10000 | 80000\n",
    "\n",
    "Deep learning model - 10000000 - millions and billions of data\\\n",
    "1000000 weights, biases - these models take a lot of time to train\\\n",
    "99.5 | 0.25 | 0.25"
   ]
  },
  {
   "cell_type": "code",
   "execution_count": 12,
   "id": "0206bc56-2bda-41d6-88e6-811880305e66",
   "metadata": {},
   "outputs": [],
   "source": [
    "X_train, X_test, y_train, y_test = train_test_split(X, y, test_size=0.33, random_state=42)"
   ]
  },
  {
   "cell_type": "code",
   "execution_count": 13,
   "id": "32129a5d-4bd1-4863-a862-87871913c0c4",
   "metadata": {},
   "outputs": [
    {
     "data": {
      "text/plain": [
       "array([[-0.8734  , -0.033118, -0.20165 ,  0.55774 ],\n",
       "       [ 2.0177  ,  1.7982  , -2.9581  ,  0.2099  ],\n",
       "       [-0.36038 ,  4.1158  ,  3.1143  , -0.37199 ],\n",
       "       ...,\n",
       "       [-7.0364  ,  9.2931  ,  0.16594 , -4.5396  ],\n",
       "       [-3.4605  ,  2.6901  ,  0.16165 , -1.0224  ],\n",
       "       [-3.3582  , -7.2404  , 11.4419  , -0.57113 ]])"
      ]
     },
     "execution_count": 13,
     "metadata": {},
     "output_type": "execute_result"
    }
   ],
   "source": [
    "X_train"
   ]
  },
  {
   "cell_type": "code",
   "execution_count": 14,
   "id": "698cc4ba-6803-46e2-8987-3885ccfec748",
   "metadata": {},
   "outputs": [
    {
     "data": {
      "text/plain": [
       "array([[ 1.5691  ,  6.3465  , -0.1828  , -2.4099  ],\n",
       "       [-0.27802 ,  8.1881  , -3.1338  , -2.5276  ],\n",
       "       [ 0.051979,  7.0521  , -2.0541  , -3.1508  ],\n",
       "       ...,\n",
       "       [ 3.5127  ,  2.9073  ,  1.0579  ,  0.40774 ],\n",
       "       [ 5.504   , 10.3671  , -4.413   , -4.0211  ],\n",
       "       [-0.2062  ,  9.2207  , -3.7044  , -6.8103  ]])"
      ]
     },
     "execution_count": 14,
     "metadata": {},
     "output_type": "execute_result"
    }
   ],
   "source": [
    "X_test"
   ]
  },
  {
   "cell_type": "code",
   "execution_count": 15,
   "id": "9f097707-7886-4659-b7f2-fc83ecf02071",
   "metadata": {},
   "outputs": [
    {
     "data": {
      "text/plain": [
       "array([0., 0., 0., 0., 0., 0., 0., 0., 0., 0., 1., 1., 0., 1., 0., 1., 1.,\n",
       "       1., 1., 1., 0., 0., 1., 0., 1., 0., 0., 1., 0., 0., 1., 0., 0., 1.,\n",
       "       1., 0., 1., 1., 1., 0., 0., 1., 1., 0., 1., 1., 1., 0., 0., 1., 0.,\n",
       "       0., 0., 0., 0., 1., 0., 0., 0., 0., 1., 0., 1., 0., 0., 0., 0., 0.,\n",
       "       0., 1., 1., 0., 1., 0., 1., 0., 0., 1., 1., 1., 1., 0., 1., 0., 0.,\n",
       "       0., 0., 1., 1., 0., 0., 0., 1., 1., 0., 1., 1., 0., 0., 0., 1., 0.,\n",
       "       0., 0., 1., 0., 0., 1., 1., 1., 1., 1., 0., 1., 1., 1., 0., 1., 1.,\n",
       "       0., 1., 0., 1., 0., 1., 0., 1., 1., 0., 1., 1., 0., 0., 0., 0., 0.,\n",
       "       1., 0., 0., 0., 0., 0., 1., 0., 1., 1., 1., 1., 1., 0., 1., 1., 1.,\n",
       "       0., 1., 0., 1., 0., 0., 0., 1., 1., 1., 1., 1., 0., 1., 0., 0., 0.,\n",
       "       0., 0., 0., 1., 0., 0., 1., 1., 0., 0., 0., 0., 1., 0., 1., 0., 1.,\n",
       "       1., 0., 0., 1., 0., 0., 1., 1., 1., 1., 0., 0., 1., 1., 1., 0., 0.,\n",
       "       1., 1., 1., 1., 0., 0., 0., 0., 0., 0., 0., 0., 0., 0., 1., 1., 1.,\n",
       "       1., 1., 0., 1., 0., 0., 1., 1., 1., 1., 0., 1., 0., 1., 1., 1., 1.,\n",
       "       0., 0., 0., 1., 0., 1., 1., 1., 0., 0., 0., 0., 0., 0., 1., 0., 1.,\n",
       "       0., 0., 0., 1., 1., 0., 0., 0., 1., 1., 0., 1., 0., 1., 1., 1., 1.,\n",
       "       0., 0., 0., 0., 0., 1., 0., 0., 1., 0., 1., 0., 0., 1., 0., 0., 0.,\n",
       "       0., 0., 1., 1., 0., 1., 0., 1., 1., 0., 0., 0., 0., 0., 0., 0., 1.,\n",
       "       1., 1., 0., 0., 1., 1., 0., 0., 0., 0., 0., 0., 1., 0., 1., 1., 1.,\n",
       "       0., 0., 0., 0., 1., 0., 0., 0., 0., 0., 0., 0., 1., 0., 1., 1., 1.,\n",
       "       1., 0., 1., 1., 0., 1., 1., 0., 0., 1., 0., 0., 1., 0., 1., 0., 1.,\n",
       "       1., 0., 0., 1., 0., 0., 0., 0., 0., 0., 1., 0., 0., 1., 0., 0., 0.,\n",
       "       0., 1., 1., 0., 1., 0., 1., 1., 1., 0., 1., 1., 0., 1., 1., 0., 1.,\n",
       "       0., 0., 0., 1., 1., 1., 0., 0., 0., 0., 1., 0., 0., 1., 1., 1., 1.,\n",
       "       0., 1., 0., 0., 1., 1., 0., 1., 0., 1., 0., 0., 0., 1., 1., 0., 0.,\n",
       "       0., 1., 0., 0., 1., 0., 0., 0., 0., 1., 0., 1., 0., 0., 1., 0., 0.,\n",
       "       0., 0., 0., 0., 1., 1., 0., 0., 0., 0., 0.])"
      ]
     },
     "execution_count": 15,
     "metadata": {},
     "output_type": "execute_result"
    }
   ],
   "source": [
    "y_test"
   ]
  },
  {
   "cell_type": "markdown",
   "id": "dd3f0d96-f607-4a51-a35c-eb27b54991d5",
   "metadata": {},
   "source": [
    "### Standardizing the Data"
   ]
  },
  {
   "cell_type": "code",
   "execution_count": 16,
   "id": "378504c7-36ab-4e3c-bbf3-5eb9624aa5ce",
   "metadata": {},
   "outputs": [],
   "source": [
    "from sklearn.preprocessing import MinMaxScaler"
   ]
  },
  {
   "cell_type": "code",
   "execution_count": 17,
   "id": "8e494fa8-2922-4425-a2ed-90550a12057a",
   "metadata": {},
   "outputs": [],
   "source": [
    "scaler_object = MinMaxScaler()"
   ]
  },
  {
   "cell_type": "code",
   "execution_count": 18,
   "id": "9a7980cf-2484-4fac-a391-fb84a268e1e2",
   "metadata": {},
   "outputs": [
    {
     "data": {
      "text/html": [
       "<style>#sk-container-id-1 {color: black;}#sk-container-id-1 pre{padding: 0;}#sk-container-id-1 div.sk-toggleable {background-color: white;}#sk-container-id-1 label.sk-toggleable__label {cursor: pointer;display: block;width: 100%;margin-bottom: 0;padding: 0.3em;box-sizing: border-box;text-align: center;}#sk-container-id-1 label.sk-toggleable__label-arrow:before {content: \"▸\";float: left;margin-right: 0.25em;color: #696969;}#sk-container-id-1 label.sk-toggleable__label-arrow:hover:before {color: black;}#sk-container-id-1 div.sk-estimator:hover label.sk-toggleable__label-arrow:before {color: black;}#sk-container-id-1 div.sk-toggleable__content {max-height: 0;max-width: 0;overflow: hidden;text-align: left;background-color: #f0f8ff;}#sk-container-id-1 div.sk-toggleable__content pre {margin: 0.2em;color: black;border-radius: 0.25em;background-color: #f0f8ff;}#sk-container-id-1 input.sk-toggleable__control:checked~div.sk-toggleable__content {max-height: 200px;max-width: 100%;overflow: auto;}#sk-container-id-1 input.sk-toggleable__control:checked~label.sk-toggleable__label-arrow:before {content: \"▾\";}#sk-container-id-1 div.sk-estimator input.sk-toggleable__control:checked~label.sk-toggleable__label {background-color: #d4ebff;}#sk-container-id-1 div.sk-label input.sk-toggleable__control:checked~label.sk-toggleable__label {background-color: #d4ebff;}#sk-container-id-1 input.sk-hidden--visually {border: 0;clip: rect(1px 1px 1px 1px);clip: rect(1px, 1px, 1px, 1px);height: 1px;margin: -1px;overflow: hidden;padding: 0;position: absolute;width: 1px;}#sk-container-id-1 div.sk-estimator {font-family: monospace;background-color: #f0f8ff;border: 1px dotted black;border-radius: 0.25em;box-sizing: border-box;margin-bottom: 0.5em;}#sk-container-id-1 div.sk-estimator:hover {background-color: #d4ebff;}#sk-container-id-1 div.sk-parallel-item::after {content: \"\";width: 100%;border-bottom: 1px solid gray;flex-grow: 1;}#sk-container-id-1 div.sk-label:hover label.sk-toggleable__label {background-color: #d4ebff;}#sk-container-id-1 div.sk-serial::before {content: \"\";position: absolute;border-left: 1px solid gray;box-sizing: border-box;top: 0;bottom: 0;left: 50%;z-index: 0;}#sk-container-id-1 div.sk-serial {display: flex;flex-direction: column;align-items: center;background-color: white;padding-right: 0.2em;padding-left: 0.2em;position: relative;}#sk-container-id-1 div.sk-item {position: relative;z-index: 1;}#sk-container-id-1 div.sk-parallel {display: flex;align-items: stretch;justify-content: center;background-color: white;position: relative;}#sk-container-id-1 div.sk-item::before, #sk-container-id-1 div.sk-parallel-item::before {content: \"\";position: absolute;border-left: 1px solid gray;box-sizing: border-box;top: 0;bottom: 0;left: 50%;z-index: -1;}#sk-container-id-1 div.sk-parallel-item {display: flex;flex-direction: column;z-index: 1;position: relative;background-color: white;}#sk-container-id-1 div.sk-parallel-item:first-child::after {align-self: flex-end;width: 50%;}#sk-container-id-1 div.sk-parallel-item:last-child::after {align-self: flex-start;width: 50%;}#sk-container-id-1 div.sk-parallel-item:only-child::after {width: 0;}#sk-container-id-1 div.sk-dashed-wrapped {border: 1px dashed gray;margin: 0 0.4em 0.5em 0.4em;box-sizing: border-box;padding-bottom: 0.4em;background-color: white;}#sk-container-id-1 div.sk-label label {font-family: monospace;font-weight: bold;display: inline-block;line-height: 1.2em;}#sk-container-id-1 div.sk-label-container {text-align: center;}#sk-container-id-1 div.sk-container {/* jupyter's `normalize.less` sets `[hidden] { display: none; }` but bootstrap.min.css set `[hidden] { display: none !important; }` so we also need the `!important` here to be able to override the default hidden behavior on the sphinx rendered scikit-learn.org. See: https://github.com/scikit-learn/scikit-learn/issues/21755 */display: inline-block !important;position: relative;}#sk-container-id-1 div.sk-text-repr-fallback {display: none;}</style><div id=\"sk-container-id-1\" class=\"sk-top-container\"><div class=\"sk-text-repr-fallback\"><pre>MinMaxScaler()</pre><b>In a Jupyter environment, please rerun this cell to show the HTML representation or trust the notebook. <br />On GitHub, the HTML representation is unable to render, please try loading this page with nbviewer.org.</b></div><div class=\"sk-container\" hidden><div class=\"sk-item\"><div class=\"sk-estimator sk-toggleable\"><input class=\"sk-toggleable__control sk-hidden--visually\" id=\"sk-estimator-id-1\" type=\"checkbox\" checked><label for=\"sk-estimator-id-1\" class=\"sk-toggleable__label sk-toggleable__label-arrow\">MinMaxScaler</label><div class=\"sk-toggleable__content\"><pre>MinMaxScaler()</pre></div></div></div></div></div>"
      ],
      "text/plain": [
       "MinMaxScaler()"
      ]
     },
     "execution_count": 18,
     "metadata": {},
     "output_type": "execute_result"
    }
   ],
   "source": [
    "scaler_object.fit(X_train)"
   ]
  },
  {
   "cell_type": "code",
   "execution_count": 19,
   "id": "a1f59e93-d4d5-4f6b-93bb-bdb5e938abf3",
   "metadata": {},
   "outputs": [],
   "source": [
    "scaled_X_train = scaler_object.transform(X_train)"
   ]
  },
  {
   "cell_type": "code",
   "execution_count": 20,
   "id": "2654af4f-478c-48da-9ff5-f25556b6ed32",
   "metadata": {},
   "outputs": [],
   "source": [
    "scaled_X_test = scaler_object.transform(X_test)"
   ]
  },
  {
   "cell_type": "code",
   "execution_count": 21,
   "id": "f14a194a-107f-4380-a17c-2c856010f231",
   "metadata": {},
   "outputs": [
    {
     "data": {
      "text/plain": [
       "array([[4.44850688e-01, 5.14130449e-01, 2.18194638e-01, 8.50172258e-01],\n",
       "       [6.53339968e-01, 5.82655745e-01, 9.93242398e-02, 8.17696322e-01],\n",
       "       [4.81846700e-01, 6.69377018e-01, 3.61193167e-01, 7.63368407e-01],\n",
       "       ...,\n",
       "       [4.11050776e-04, 8.63104170e-01, 2.34046756e-01, 3.74261253e-01],\n",
       "       [2.58284115e-01, 6.16029366e-01, 2.33861752e-01, 7.02643151e-01],\n",
       "       [2.65661395e-01, 2.44444278e-01, 7.20316361e-01, 7.44775785e-01]])"
      ]
     },
     "execution_count": 21,
     "metadata": {},
     "output_type": "execute_result"
    }
   ],
   "source": [
    "scaled_X_train"
   ]
  },
  {
   "cell_type": "code",
   "execution_count": 22,
   "id": "98c94e24-2384-4bfd-a9e8-86b124ac668e",
   "metadata": {},
   "outputs": [
    {
     "data": {
      "text/plain": [
       "array([[-0.8734  , -0.033118, -0.20165 ,  0.55774 ],\n",
       "       [ 2.0177  ,  1.7982  , -2.9581  ,  0.2099  ],\n",
       "       [-0.36038 ,  4.1158  ,  3.1143  , -0.37199 ],\n",
       "       ...,\n",
       "       [-7.0364  ,  9.2931  ,  0.16594 , -4.5396  ],\n",
       "       [-3.4605  ,  2.6901  ,  0.16165 , -1.0224  ],\n",
       "       [-3.3582  , -7.2404  , 11.4419  , -0.57113 ]])"
      ]
     },
     "execution_count": 22,
     "metadata": {},
     "output_type": "execute_result"
    }
   ],
   "source": [
    "X_train"
   ]
  },
  {
   "cell_type": "markdown",
   "id": "13de044d-b6f6-4b31-a7ed-14be41201415",
   "metadata": {},
   "source": [
    "### Building the model"
   ]
  },
  {
   "cell_type": "code",
   "execution_count": 23,
   "id": "8c85d322-28e2-46b0-bb14-0055308bd6f0",
   "metadata": {
    "scrolled": true
   },
   "outputs": [],
   "source": [
    "# !pip install keras"
   ]
  },
  {
   "cell_type": "code",
   "execution_count": 24,
   "id": "4b9c729d-a7e1-405c-a18b-5ef4e1cd8d22",
   "metadata": {},
   "outputs": [],
   "source": [
    "# !pip install tensorflow"
   ]
  },
  {
   "cell_type": "code",
   "execution_count": 26,
   "id": "b09b9c35-5e74-4d2e-aebd-57fe697335b5",
   "metadata": {},
   "outputs": [],
   "source": [
    "from keras.models import Sequential\n",
    "from keras.layers import Dense"
   ]
  },
  {
   "cell_type": "code",
   "execution_count": 28,
   "id": "a176b545-28b1-4808-8a29-05bc96cc9dc2",
   "metadata": {},
   "outputs": [],
   "source": [
    "# initializing the model\n",
    "model = Sequential()\n",
    "\n",
    "model.add(Dense(4, input_dim=4, activation='relu'))\n",
    "\n",
    "model.add(Dense(8, activation='relu'))\n",
    "\n",
    "model.add(Dense(1, activation='sigmoid'))"
   ]
  },
  {
   "cell_type": "markdown",
   "id": "62de2563-d574-49c3-839b-cb5891d4bfab",
   "metadata": {},
   "source": [
    "### Compile the model"
   ]
  },
  {
   "cell_type": "code",
   "execution_count": 30,
   "id": "5a84f4b2-943a-44af-b918-606c59602665",
   "metadata": {},
   "outputs": [],
   "source": [
    "model.compile(loss='binary_crossentropy', optimizer='adam', metrics=['accuracy'])"
   ]
  },
  {
   "cell_type": "code",
   "execution_count": 32,
   "id": "7044c8ef-b4da-4e09-9c8e-6a2d2a653d83",
   "metadata": {},
   "outputs": [
    {
     "name": "stdout",
     "output_type": "stream",
     "text": [
      "Epoch 1/10\n",
      "29/29 - 0s - loss: 0.5438 - accuracy: 0.8052 - 259ms/epoch - 9ms/step\n",
      "Epoch 2/10\n",
      "29/29 - 0s - loss: 0.5185 - accuracy: 0.8433 - 154ms/epoch - 5ms/step\n",
      "Epoch 3/10\n",
      "29/29 - 0s - loss: 0.4954 - accuracy: 0.8629 - 163ms/epoch - 6ms/step\n",
      "Epoch 4/10\n",
      "29/29 - 0s - loss: 0.4727 - accuracy: 0.8749 - 129ms/epoch - 4ms/step\n",
      "Epoch 5/10\n",
      "29/29 - 0s - loss: 0.4522 - accuracy: 0.8792 - 172ms/epoch - 6ms/step\n",
      "Epoch 6/10\n",
      "29/29 - 0s - loss: 0.4335 - accuracy: 0.8836 - 146ms/epoch - 5ms/step\n",
      "Epoch 7/10\n",
      "29/29 - 0s - loss: 0.4154 - accuracy: 0.8879 - 162ms/epoch - 6ms/step\n",
      "Epoch 8/10\n",
      "29/29 - 0s - loss: 0.3992 - accuracy: 0.8879 - 144ms/epoch - 5ms/step\n",
      "Epoch 9/10\n",
      "29/29 - 0s - loss: 0.3842 - accuracy: 0.8912 - 179ms/epoch - 6ms/step\n",
      "Epoch 10/10\n",
      "29/29 - 0s - loss: 0.3706 - accuracy: 0.9021 - 146ms/epoch - 5ms/step\n"
     ]
    },
    {
     "data": {
      "text/plain": [
       "<keras.src.callbacks.History at 0x26e4e5357d0>"
      ]
     },
     "execution_count": 32,
     "metadata": {},
     "output_type": "execute_result"
    }
   ],
   "source": [
    "model.fit(scaled_X_train , y_train , epochs = 10 , verbose = 2)"
   ]
  },
  {
   "cell_type": "code",
   "execution_count": 33,
   "id": "fc048960-41b8-43e3-a512-179bbd14ca78",
   "metadata": {},
   "outputs": [
    {
     "data": {
      "text/plain": [
       "array([[0.62098955, 0.75284662, 0.21900753, 0.5730998 ],\n",
       "       [0.48778602, 0.82175665, 0.09174727, 0.56211079],\n",
       "       [0.51158363, 0.77924916, 0.13830875, 0.50392598],\n",
       "       ...,\n",
       "       [0.76115065, 0.62415668, 0.27251204, 0.83616757],\n",
       "       [0.9047516 , 0.90329171, 0.03658247, 0.42267079],\n",
       "       [0.49296526, 0.86039507, 0.06714046, 0.1622583 ]])"
      ]
     },
     "execution_count": 33,
     "metadata": {},
     "output_type": "execute_result"
    }
   ],
   "source": [
    "scaled_X_test"
   ]
  },
  {
   "cell_type": "code",
   "execution_count": 58,
   "id": "02b41699-e1b3-418f-801d-66153b2b2faa",
   "metadata": {},
   "outputs": [
    {
     "name": "stdout",
     "output_type": "stream",
     "text": [
      "15/15 [==============================] - 0s 4ms/step\n"
     ]
    },
    {
     "data": {
      "text/plain": [
       "array([[0.18010913],\n",
       "       [0.4260167 ],\n",
       "       [0.31396577],\n",
       "       [0.36279422],\n",
       "       [0.17889836],\n",
       "       [0.10805662],\n",
       "       [0.448189  ],\n",
       "       [0.08140706],\n",
       "       [0.16799942],\n",
       "       [0.4097632 ],\n",
       "       [0.37344462],\n",
       "       [0.6123067 ],\n",
       "       [0.44413465],\n",
       "       [0.6316132 ],\n",
       "       [0.7863938 ],\n",
       "       [0.19269565],\n",
       "       [0.7628923 ],\n",
       "       [0.7723571 ],\n",
       "       [0.7041527 ],\n",
       "       [0.7304483 ],\n",
       "       [0.1202985 ],\n",
       "       [0.30694985],\n",
       "       [0.7394716 ],\n",
       "       [0.11329222],\n",
       "       [0.89947915],\n",
       "       [0.12209944],\n",
       "       [0.10759978],\n",
       "       [0.6835132 ],\n",
       "       [0.0278148 ],\n",
       "       [0.05315775],\n",
       "       [0.40713292],\n",
       "       [0.31954804],\n",
       "       [0.35878825],\n",
       "       [0.92417884],\n",
       "       [0.8540662 ],\n",
       "       [0.0836923 ],\n",
       "       [0.36319315],\n",
       "       [0.5470902 ],\n",
       "       [0.6276227 ],\n",
       "       [0.31064427],\n",
       "       [0.261417  ],\n",
       "       [0.41665518],\n",
       "       [0.561602  ],\n",
       "       [0.13326576],\n",
       "       [0.85857826],\n",
       "       [0.7051648 ],\n",
       "       [0.7825264 ],\n",
       "       [0.11847924],\n",
       "       [0.18832059],\n",
       "       [0.21158805],\n",
       "       [0.11539827],\n",
       "       [0.09023822],\n",
       "       [0.24662618],\n",
       "       [0.10544956],\n",
       "       [0.5222702 ],\n",
       "       [0.5116839 ],\n",
       "       [0.27617005],\n",
       "       [0.08485968],\n",
       "       [0.09874006],\n",
       "       [0.09253695],\n",
       "       [0.7878042 ],\n",
       "       [0.22040145],\n",
       "       [0.14615564],\n",
       "       [0.08359593],\n",
       "       [0.34923258],\n",
       "       [0.08477437],\n",
       "       [0.15498167],\n",
       "       [0.34405532],\n",
       "       [0.6619359 ],\n",
       "       [0.12887235],\n",
       "       [0.736132  ],\n",
       "       [0.10607327],\n",
       "       [0.62318856],\n",
       "       [0.06088876],\n",
       "       [0.5791927 ],\n",
       "       [0.36496076],\n",
       "       [0.11753552],\n",
       "       [0.60868853],\n",
       "       [0.7795608 ],\n",
       "       [0.49823526],\n",
       "       [0.45519665],\n",
       "       [0.27424684],\n",
       "       [0.1991824 ],\n",
       "       [0.10879029],\n",
       "       [0.14809111],\n",
       "       [0.04247548],\n",
       "       [0.23204209],\n",
       "       [0.8747575 ],\n",
       "       [0.11711043],\n",
       "       [0.3453121 ],\n",
       "       [0.13463621],\n",
       "       [0.18107133],\n",
       "       [0.53550714],\n",
       "       [0.515438  ],\n",
       "       [0.16443738],\n",
       "       [0.8130169 ],\n",
       "       [0.89149356],\n",
       "       [0.18693326],\n",
       "       [0.11521482],\n",
       "       [0.22467625],\n",
       "       [0.78898937],\n",
       "       [0.12171321],\n",
       "       [0.44269195],\n",
       "       [0.2620498 ],\n",
       "       [0.93197095],\n",
       "       [0.0915892 ],\n",
       "       [0.22733405],\n",
       "       [0.20367299],\n",
       "       [0.71936846],\n",
       "       [0.7787948 ],\n",
       "       [0.7180257 ],\n",
       "       [0.46487156],\n",
       "       [0.11049262],\n",
       "       [0.84674084],\n",
       "       [0.6082651 ],\n",
       "       [0.8152191 ],\n",
       "       [0.06784038],\n",
       "       [0.8340735 ],\n",
       "       [0.6943791 ],\n",
       "       [0.11752477],\n",
       "       [0.7852249 ],\n",
       "       [0.25353476],\n",
       "       [0.43683016],\n",
       "       [0.13247499],\n",
       "       [0.0952417 ],\n",
       "       [0.44137093],\n",
       "       [0.78027135],\n",
       "       [0.5776893 ],\n",
       "       [0.33246693],\n",
       "       [0.65106034],\n",
       "       [0.9183661 ],\n",
       "       [0.37278655],\n",
       "       [0.27334833],\n",
       "       [0.14304195],\n",
       "       [0.04443715],\n",
       "       [0.18546349],\n",
       "       [0.6655305 ],\n",
       "       [0.04065376],\n",
       "       [0.3148585 ],\n",
       "       [0.6973289 ],\n",
       "       [0.15858553],\n",
       "       [0.12338252],\n",
       "       [0.7661529 ],\n",
       "       [0.16530213],\n",
       "       [0.37056863],\n",
       "       [0.1437615 ],\n",
       "       [0.16027486],\n",
       "       [0.2336753 ],\n",
       "       [0.2546364 ],\n",
       "       [0.14616017],\n",
       "       [0.2979462 ],\n",
       "       [0.6890554 ],\n",
       "       [0.6916915 ],\n",
       "       [0.03586169],\n",
       "       [0.48622876],\n",
       "       [0.11061786],\n",
       "       [0.4914112 ],\n",
       "       [0.38029382],\n",
       "       [0.34496093],\n",
       "       [0.32965586],\n",
       "       [0.8672981 ],\n",
       "       [0.77147406],\n",
       "       [0.76099014],\n",
       "       [0.83291304],\n",
       "       [0.5188774 ],\n",
       "       [0.17862463],\n",
       "       [0.74600214],\n",
       "       [0.1666747 ],\n",
       "       [0.09137756],\n",
       "       [0.1693373 ],\n",
       "       [0.35420507],\n",
       "       [0.14403158],\n",
       "       [0.26710194],\n",
       "       [0.80766475],\n",
       "       [0.17855771],\n",
       "       [0.2107072 ],\n",
       "       [0.7228119 ],\n",
       "       [0.87282574],\n",
       "       [0.46671996],\n",
       "       [0.08516519],\n",
       "       [0.13238415],\n",
       "       [0.37383896],\n",
       "       [0.7980489 ],\n",
       "       [0.22309065],\n",
       "       [0.7622005 ],\n",
       "       [0.24062817],\n",
       "       [0.6741286 ],\n",
       "       [0.6161957 ],\n",
       "       [0.07403906],\n",
       "       [0.2562401 ],\n",
       "       [0.78412557],\n",
       "       [0.166175  ],\n",
       "       [0.34290594],\n",
       "       [0.8708546 ],\n",
       "       [0.6828605 ],\n",
       "       [0.6988272 ],\n",
       "       [0.5162892 ],\n",
       "       [0.7276148 ],\n",
       "       [0.7649059 ],\n",
       "       [0.826773  ],\n",
       "       [0.8227181 ],\n",
       "       [0.8081792 ],\n",
       "       [0.14741431],\n",
       "       [0.3980385 ],\n",
       "       [0.71786475],\n",
       "       [0.86792374],\n",
       "       [0.8920951 ],\n",
       "       [0.3643135 ],\n",
       "       [0.59361833],\n",
       "       [0.13859022],\n",
       "       [0.41858044],\n",
       "       [0.0682291 ],\n",
       "       [0.4420068 ],\n",
       "       [0.28600785],\n",
       "       [0.13093928],\n",
       "       [0.06393088],\n",
       "       [0.36496076],\n",
       "       [0.30512527],\n",
       "       [0.91907024],\n",
       "       [0.7790385 ],\n",
       "       [0.697687  ],\n",
       "       [0.78955656],\n",
       "       [0.68247837],\n",
       "       [0.15365998],\n",
       "       [0.6176383 ],\n",
       "       [0.09770497],\n",
       "       [0.5579545 ],\n",
       "       [0.82872015],\n",
       "       [0.6995593 ],\n",
       "       [0.7838827 ],\n",
       "       [0.70762247],\n",
       "       [0.3587483 ],\n",
       "       [0.57128274],\n",
       "       [0.04329735],\n",
       "       [0.75317514],\n",
       "       [0.8258953 ],\n",
       "       [0.60247   ],\n",
       "       [0.75917315],\n",
       "       [0.26280248],\n",
       "       [0.13434148],\n",
       "       [0.37854803],\n",
       "       [0.5715583 ],\n",
       "       [0.11885449],\n",
       "       [0.8148503 ],\n",
       "       [0.7389194 ],\n",
       "       [0.7849772 ],\n",
       "       [0.22983141],\n",
       "       [0.16627206],\n",
       "       [0.1521305 ],\n",
       "       [0.19506021],\n",
       "       [0.05250065],\n",
       "       [0.20689173],\n",
       "       [0.71418434],\n",
       "       [0.28737086],\n",
       "       [0.12395   ],\n",
       "       [0.13610335],\n",
       "       [0.10692815],\n",
       "       [0.17759673],\n",
       "       [0.881217  ],\n",
       "       [0.740655  ],\n",
       "       [0.190827  ],\n",
       "       [0.12606427],\n",
       "       [0.12368821],\n",
       "       [0.8021675 ],\n",
       "       [0.5731456 ],\n",
       "       [0.14181247],\n",
       "       [0.61071014],\n",
       "       [0.22223565],\n",
       "       [0.89050865],\n",
       "       [0.69454515],\n",
       "       [0.83254063],\n",
       "       [0.47306034],\n",
       "       [0.12922236],\n",
       "       [0.4260138 ],\n",
       "       [0.06969099],\n",
       "       [0.16998017],\n",
       "       [0.21675126],\n",
       "       [0.7770332 ],\n",
       "       [0.08861396],\n",
       "       [0.4185639 ],\n",
       "       [0.82515764],\n",
       "       [0.08373725],\n",
       "       [0.7731195 ],\n",
       "       [0.07282662],\n",
       "       [0.23293968],\n",
       "       [0.7330759 ],\n",
       "       [0.07030623],\n",
       "       [0.3158515 ],\n",
       "       [0.10089682],\n",
       "       [0.577705  ],\n",
       "       [0.13286023],\n",
       "       [0.8848497 ],\n",
       "       [0.8910246 ],\n",
       "       [0.19050485],\n",
       "       [0.8509235 ],\n",
       "       [0.26161647],\n",
       "       [0.6418861 ],\n",
       "       [0.8413115 ],\n",
       "       [0.06629322],\n",
       "       [0.4185787 ],\n",
       "       [0.53859854],\n",
       "       [0.05819341],\n",
       "       [0.17397973],\n",
       "       [0.23582074],\n",
       "       [0.32298768],\n",
       "       [0.68333054],\n",
       "       [0.85947967],\n",
       "       [0.7419132 ],\n",
       "       [0.12264329],\n",
       "       [0.0542639 ],\n",
       "       [0.5777571 ],\n",
       "       [0.74413383],\n",
       "       [0.12811443],\n",
       "       [0.35134932],\n",
       "       [0.366412  ],\n",
       "       [0.05999107],\n",
       "       [0.14679682],\n",
       "       [0.29418394],\n",
       "       [0.8530047 ],\n",
       "       [0.26875266],\n",
       "       [0.69466996],\n",
       "       [0.5538024 ],\n",
       "       [0.8276347 ],\n",
       "       [0.15277207],\n",
       "       [0.07896533],\n",
       "       [0.11851712],\n",
       "       [0.05073265],\n",
       "       [0.46933538],\n",
       "       [0.3577903 ],\n",
       "       [0.04569283],\n",
       "       [0.25202614],\n",
       "       [0.285197  ],\n",
       "       [0.21306552],\n",
       "       [0.12342437],\n",
       "       [0.3516883 ],\n",
       "       [0.7781858 ],\n",
       "       [0.18258557],\n",
       "       [0.6982157 ],\n",
       "       [0.8347169 ],\n",
       "       [0.54900044],\n",
       "       [0.6934588 ],\n",
       "       [0.1183806 ],\n",
       "       [0.7146182 ],\n",
       "       [0.7452497 ],\n",
       "       [0.16100237],\n",
       "       [0.64296913],\n",
       "       [0.7136408 ],\n",
       "       [0.10240196],\n",
       "       [0.23208961],\n",
       "       [0.26802117],\n",
       "       [0.40053037],\n",
       "       [0.1563981 ],\n",
       "       [0.75236696],\n",
       "       [0.19759671],\n",
       "       [0.7011311 ],\n",
       "       [0.07547131],\n",
       "       [0.7044309 ],\n",
       "       [0.6473476 ],\n",
       "       [0.10897707],\n",
       "       [0.13249671],\n",
       "       [0.74453753],\n",
       "       [0.28448293],\n",
       "       [0.26409882],\n",
       "       [0.2330186 ],\n",
       "       [0.03774278],\n",
       "       [0.04868874],\n",
       "       [0.25565812],\n",
       "       [0.77173287],\n",
       "       [0.4024446 ],\n",
       "       [0.19692038],\n",
       "       [0.9231346 ],\n",
       "       [0.37369168],\n",
       "       [0.24895106],\n",
       "       [0.52063775],\n",
       "       [0.16369991],\n",
       "       [0.71811426],\n",
       "       [0.7297297 ],\n",
       "       [0.20323612],\n",
       "       [0.75154895],\n",
       "       [0.12297411],\n",
       "       [0.8487094 ],\n",
       "       [0.71663934],\n",
       "       [0.49995318],\n",
       "       [0.11738645],\n",
       "       [0.63622636],\n",
       "       [0.11385763],\n",
       "       [0.16323052],\n",
       "       [0.74874794],\n",
       "       [0.6749653 ],\n",
       "       [0.09629948],\n",
       "       [0.7868906 ],\n",
       "       [0.25823113],\n",
       "       [0.19300081],\n",
       "       [0.20676394],\n",
       "       [0.8505513 ],\n",
       "       [0.6446167 ],\n",
       "       [0.32396987],\n",
       "       [0.11493563],\n",
       "       [0.43234617],\n",
       "       [0.03764297],\n",
       "       [0.18866697],\n",
       "       [0.71247804],\n",
       "       [0.14500566],\n",
       "       [0.13176009],\n",
       "       [0.775676  ],\n",
       "       [0.6982157 ],\n",
       "       [0.7014571 ],\n",
       "       [0.6841289 ],\n",
       "       [0.17631182],\n",
       "       [0.646084  ],\n",
       "       [0.26094434],\n",
       "       [0.16231973],\n",
       "       [0.5706233 ],\n",
       "       [0.22112224],\n",
       "       [0.29575425],\n",
       "       [0.708886  ],\n",
       "       [0.5434351 ],\n",
       "       [0.48539037],\n",
       "       [0.25052294],\n",
       "       [0.10027578],\n",
       "       [0.12040591],\n",
       "       [0.73588866],\n",
       "       [0.58866656],\n",
       "       [0.12568158],\n",
       "       [0.11334229],\n",
       "       [0.18318687],\n",
       "       [0.7397831 ],\n",
       "       [0.13161461],\n",
       "       [0.19876094],\n",
       "       [0.8617147 ],\n",
       "       [0.12379389],\n",
       "       [0.05144295],\n",
       "       [0.1308005 ],\n",
       "       [0.2224367 ],\n",
       "       [0.5273277 ],\n",
       "       [0.10367199],\n",
       "       [0.68704534],\n",
       "       [0.02788728],\n",
       "       [0.4185787 ],\n",
       "       [0.6399798 ],\n",
       "       [0.12197042],\n",
       "       [0.21225034],\n",
       "       [0.2544575 ],\n",
       "       [0.03147353],\n",
       "       [0.03314477],\n",
       "       [0.10994743],\n",
       "       [0.60975236],\n",
       "       [0.75434834],\n",
       "       [0.20948963],\n",
       "       [0.10953448],\n",
       "       [0.15134396],\n",
       "       [0.03043401],\n",
       "       [0.13238415]], dtype=float32)"
      ]
     },
     "execution_count": 58,
     "metadata": {},
     "output_type": "execute_result"
    }
   ],
   "source": [
    "model.predict(scaled_X_test)"
   ]
  },
  {
   "cell_type": "code",
   "execution_count": 35,
   "id": "dbaf56fa-b8cc-4e8d-bba4-f03909709436",
   "metadata": {},
   "outputs": [],
   "source": [
    "# model.predict_classes(scaled_X_test)"
   ]
  },
  {
   "cell_type": "markdown",
   "id": "6d9801e2-9fd6-430d-9973-80b2f5745321",
   "metadata": {},
   "source": [
    "### Evaluate the model"
   ]
  },
  {
   "cell_type": "code",
   "execution_count": 36,
   "id": "0d34204f-08f2-4e03-9c4b-1395b6321244",
   "metadata": {},
   "outputs": [
    {
     "data": {
      "text/plain": [
       "['loss', 'accuracy']"
      ]
     },
     "execution_count": 36,
     "metadata": {},
     "output_type": "execute_result"
    }
   ],
   "source": [
    "model.metrics_names"
   ]
  },
  {
   "cell_type": "code",
   "execution_count": 37,
   "id": "b14746e4-4950-41c8-bf2d-35fdf863164b",
   "metadata": {},
   "outputs": [
    {
     "name": "stdout",
     "output_type": "stream",
     "text": [
      "15/15 [==============================] - 1s 7ms/step - loss: 0.3591 - accuracy: 0.8985\n"
     ]
    },
    {
     "data": {
      "text/plain": [
       "[0.3591225743293762, 0.8984547257423401]"
      ]
     },
     "execution_count": 37,
     "metadata": {},
     "output_type": "execute_result"
    }
   ],
   "source": [
    "model.evaluate(x=scaled_X_test, y=y_test)"
   ]
  },
  {
   "cell_type": "code",
   "execution_count": 38,
   "id": "499fc47c-bfa1-40e3-bf36-935e70792520",
   "metadata": {},
   "outputs": [],
   "source": [
    "from sklearn.metrics import confusion_matrix, classification_report"
   ]
  },
  {
   "cell_type": "code",
   "execution_count": 39,
   "id": "2b78271b-7816-432d-a78b-1a568513128f",
   "metadata": {},
   "outputs": [
    {
     "name": "stdout",
     "output_type": "stream",
     "text": [
      "15/15 [==============================] - 0s 6ms/step\n"
     ]
    }
   ],
   "source": [
    "predictions = model.predict(scaled_X_test)\n",
    "classes_x=np.argmax(predictions,axis=1)"
   ]
  },
  {
   "cell_type": "code",
   "execution_count": 40,
   "id": "6d5d8f84-9618-479e-a724-e8c3ea3219f3",
   "metadata": {},
   "outputs": [
    {
     "data": {
      "text/plain": [
       "array([0, 0, 0, 0, 0, 0, 0, 0, 0, 0, 0, 0, 0, 0, 0, 0, 0, 0, 0, 0, 0, 0,\n",
       "       0, 0, 0, 0, 0, 0, 0, 0, 0, 0, 0, 0, 0, 0, 0, 0, 0, 0, 0, 0, 0, 0,\n",
       "       0, 0, 0, 0, 0, 0, 0, 0, 0, 0, 0, 0, 0, 0, 0, 0, 0, 0, 0, 0, 0, 0,\n",
       "       0, 0, 0, 0, 0, 0, 0, 0, 0, 0, 0, 0, 0, 0, 0, 0, 0, 0, 0, 0, 0, 0,\n",
       "       0, 0, 0, 0, 0, 0, 0, 0, 0, 0, 0, 0, 0, 0, 0, 0, 0, 0, 0, 0, 0, 0,\n",
       "       0, 0, 0, 0, 0, 0, 0, 0, 0, 0, 0, 0, 0, 0, 0, 0, 0, 0, 0, 0, 0, 0,\n",
       "       0, 0, 0, 0, 0, 0, 0, 0, 0, 0, 0, 0, 0, 0, 0, 0, 0, 0, 0, 0, 0, 0,\n",
       "       0, 0, 0, 0, 0, 0, 0, 0, 0, 0, 0, 0, 0, 0, 0, 0, 0, 0, 0, 0, 0, 0,\n",
       "       0, 0, 0, 0, 0, 0, 0, 0, 0, 0, 0, 0, 0, 0, 0, 0, 0, 0, 0, 0, 0, 0,\n",
       "       0, 0, 0, 0, 0, 0, 0, 0, 0, 0, 0, 0, 0, 0, 0, 0, 0, 0, 0, 0, 0, 0,\n",
       "       0, 0, 0, 0, 0, 0, 0, 0, 0, 0, 0, 0, 0, 0, 0, 0, 0, 0, 0, 0, 0, 0,\n",
       "       0, 0, 0, 0, 0, 0, 0, 0, 0, 0, 0, 0, 0, 0, 0, 0, 0, 0, 0, 0, 0, 0,\n",
       "       0, 0, 0, 0, 0, 0, 0, 0, 0, 0, 0, 0, 0, 0, 0, 0, 0, 0, 0, 0, 0, 0,\n",
       "       0, 0, 0, 0, 0, 0, 0, 0, 0, 0, 0, 0, 0, 0, 0, 0, 0, 0, 0, 0, 0, 0,\n",
       "       0, 0, 0, 0, 0, 0, 0, 0, 0, 0, 0, 0, 0, 0, 0, 0, 0, 0, 0, 0, 0, 0,\n",
       "       0, 0, 0, 0, 0, 0, 0, 0, 0, 0, 0, 0, 0, 0, 0, 0, 0, 0, 0, 0, 0, 0,\n",
       "       0, 0, 0, 0, 0, 0, 0, 0, 0, 0, 0, 0, 0, 0, 0, 0, 0, 0, 0, 0, 0, 0,\n",
       "       0, 0, 0, 0, 0, 0, 0, 0, 0, 0, 0, 0, 0, 0, 0, 0, 0, 0, 0, 0, 0, 0,\n",
       "       0, 0, 0, 0, 0, 0, 0, 0, 0, 0, 0, 0, 0, 0, 0, 0, 0, 0, 0, 0, 0, 0,\n",
       "       0, 0, 0, 0, 0, 0, 0, 0, 0, 0, 0, 0, 0, 0, 0, 0, 0, 0, 0, 0, 0, 0,\n",
       "       0, 0, 0, 0, 0, 0, 0, 0, 0, 0, 0, 0, 0], dtype=int64)"
      ]
     },
     "execution_count": 40,
     "metadata": {},
     "output_type": "execute_result"
    }
   ],
   "source": [
    "classes_x"
   ]
  },
  {
   "cell_type": "code",
   "execution_count": 41,
   "id": "155eb441-4948-4dd3-bf90-2fcf9c6cc0c0",
   "metadata": {},
   "outputs": [
    {
     "data": {
      "text/plain": [
       "array([[257,   0],\n",
       "       [196,   0]], dtype=int64)"
      ]
     },
     "execution_count": 41,
     "metadata": {},
     "output_type": "execute_result"
    }
   ],
   "source": [
    "confusion_matrix(y_test, classes_x)"
   ]
  },
  {
   "cell_type": "code",
   "execution_count": 48,
   "id": "85ce326b-0659-4a37-b338-41944cf7e74c",
   "metadata": {},
   "outputs": [
    {
     "name": "stdout",
     "output_type": "stream",
     "text": [
      "              precision    recall  f1-score   support\n",
      "\n",
      "         0.0       0.57      1.00      0.72       257\n",
      "         1.0       0.00      0.00      0.00       196\n",
      "\n",
      "    accuracy                           0.57       453\n",
      "   macro avg       0.28      0.50      0.36       453\n",
      "weighted avg       0.32      0.57      0.41       453\n",
      "\n"
     ]
    }
   ],
   "source": [
    "print(classification_report(y_test, classes_x))"
   ]
  },
  {
   "cell_type": "code",
   "execution_count": 49,
   "id": "86914346-a8ad-4866-86ea-a76b7d65220b",
   "metadata": {},
   "outputs": [
    {
     "name": "stdout",
     "output_type": "stream",
     "text": [
      "15/15 [==============================] - 0s 5ms/step\n"
     ]
    }
   ],
   "source": [
    "predictions = (model.predict(scaled_X_test) > 0.5).astype(\"int32\")"
   ]
  },
  {
   "cell_type": "code",
   "execution_count": 50,
   "id": "60772069-9f3d-4f4f-b4d2-2d95c3bfb7d0",
   "metadata": {},
   "outputs": [
    {
     "data": {
      "text/plain": [
       "array([[245,  12],\n",
       "       [ 34, 162]], dtype=int64)"
      ]
     },
     "execution_count": 50,
     "metadata": {},
     "output_type": "execute_result"
    }
   ],
   "source": [
    "confusion_matrix(y_test, predictions)"
   ]
  },
  {
   "cell_type": "code",
   "execution_count": 51,
   "id": "508dc495-b2b3-428d-b353-84e17d815c61",
   "metadata": {},
   "outputs": [
    {
     "name": "stdout",
     "output_type": "stream",
     "text": [
      "              precision    recall  f1-score   support\n",
      "\n",
      "         0.0       0.88      0.95      0.91       257\n",
      "         1.0       0.93      0.83      0.88       196\n",
      "\n",
      "    accuracy                           0.90       453\n",
      "   macro avg       0.90      0.89      0.89       453\n",
      "weighted avg       0.90      0.90      0.90       453\n",
      "\n"
     ]
    }
   ],
   "source": [
    "print(classification_report(y_test, predictions))"
   ]
  },
  {
   "cell_type": "markdown",
   "id": "cd83d181",
   "metadata": {},
   "source": [
    "### Save and load the model"
   ]
  },
  {
   "cell_type": "code",
   "execution_count": 52,
   "id": "0fac8314-e2da-4794-8a34-6ac07605aedd",
   "metadata": {},
   "outputs": [
    {
     "name": "stdout",
     "output_type": "stream",
     "text": [
      "INFO:tensorflow:Assets written to: mydeeplearningmodel\\assets\n"
     ]
    },
    {
     "name": "stderr",
     "output_type": "stream",
     "text": [
      "INFO:tensorflow:Assets written to: mydeeplearningmodel\\assets\n"
     ]
    }
   ],
   "source": [
    "model.save('mydeeplearningmodel')"
   ]
  },
  {
   "cell_type": "code",
   "execution_count": 53,
   "id": "b24b0466-2402-4284-9c8d-7b6bf51bb359",
   "metadata": {},
   "outputs": [],
   "source": [
    "from keras.models import load_model"
   ]
  },
  {
   "cell_type": "code",
   "execution_count": null,
   "id": "2b51640d-ac63-4ec2-b57f-a97776861a7d",
   "metadata": {},
   "outputs": [],
   "source": [
    "newmodel = load_model('mydeeplearningmodel')"
   ]
  },
  {
   "cell_type": "code",
   "execution_count": 55,
   "id": "11687dff-2a97-417c-a1b8-e46c1357d138",
   "metadata": {},
   "outputs": [
    {
     "name": "stdout",
     "output_type": "stream",
     "text": [
      "15/15 [==============================] - 0s 7ms/step\n"
     ]
    },
    {
     "data": {
      "text/plain": [
       "array([[4.45049373e-05],\n",
       "       [9.99985099e-01],\n",
       "       [9.94284213e-01],\n",
       "       [9.99987662e-01],\n",
       "       [6.76522090e-04],\n",
       "       [6.29058122e-05],\n",
       "       [9.96482193e-01],\n",
       "       [1.72049611e-10],\n",
       "       [9.51735001e-06],\n",
       "       [4.35313061e-02],\n",
       "       [2.86506419e-03],\n",
       "       [9.99851048e-01],\n",
       "       [6.98215723e-01],\n",
       "       [6.98215723e-01],\n",
       "       [8.33339810e-01],\n",
       "       [4.78353089e-04],\n",
       "       [6.98215723e-01],\n",
       "       [6.98215723e-01],\n",
       "       [6.98215723e-01],\n",
       "       [6.98215723e-01],\n",
       "       [3.20176659e-05],\n",
       "       [7.44950818e-03],\n",
       "       [6.98215723e-01],\n",
       "       [1.66213923e-07],\n",
       "       [1.00000000e+00],\n",
       "       [3.70609121e-09],\n",
       "       [1.37502463e-08],\n",
       "       [6.98215723e-01],\n",
       "       [6.32762453e-15],\n",
       "       [1.11031356e-12],\n",
       "       [9.97968018e-01],\n",
       "       [2.88914167e-03],\n",
       "       [1.32115036e-01],\n",
       "       [1.00000000e+00],\n",
       "       [1.00000000e+00],\n",
       "       [1.49523283e-09],\n",
       "       [2.13816855e-03],\n",
       "       [5.91531634e-01],\n",
       "       [9.99825001e-01],\n",
       "       [6.32774027e-04],\n",
       "       [1.38146400e-01],\n",
       "       [9.99411106e-01],\n",
       "       [9.95925665e-01],\n",
       "       [2.20843751e-04],\n",
       "       [9.99326110e-01],\n",
       "       [6.98215723e-01],\n",
       "       [6.98215723e-01],\n",
       "       [1.82349724e-03],\n",
       "       [6.98215723e-01],\n",
       "       [4.78122244e-03],\n",
       "       [1.74412256e-04],\n",
       "       [3.07867426e-10],\n",
       "       [8.02602232e-01],\n",
       "       [6.61340316e-09],\n",
       "       [9.99200761e-01],\n",
       "       [9.90938008e-01],\n",
       "       [9.99997139e-01],\n",
       "       [2.49525095e-10],\n",
       "       [4.12944937e-04],\n",
       "       [7.46407750e-07],\n",
       "       [6.98215723e-01],\n",
       "       [4.52054119e-05],\n",
       "       [6.26207069e-02],\n",
       "       [3.93131483e-09],\n",
       "       [9.99994457e-01],\n",
       "       [3.54164698e-10],\n",
       "       [6.77113519e-07],\n",
       "       [4.62029641e-03],\n",
       "       [6.98215723e-01],\n",
       "       [2.82724723e-02],\n",
       "       [6.98215723e-01],\n",
       "       [1.17502932e-05],\n",
       "       [6.98215723e-01],\n",
       "       [3.79888222e-12],\n",
       "       [6.98215723e-01],\n",
       "       [6.98215723e-01],\n",
       "       [7.86616292e-05],\n",
       "       [9.99866843e-01],\n",
       "       [9.94959950e-01],\n",
       "       [8.40000033e-01],\n",
       "       [9.94215786e-01],\n",
       "       [1.22252339e-02],\n",
       "       [5.46025112e-02],\n",
       "       [7.35228355e-07],\n",
       "       [2.92000920e-01],\n",
       "       [4.09384679e-11],\n",
       "       [3.70761722e-06],\n",
       "       [9.99625504e-01],\n",
       "       [4.92320105e-04],\n",
       "       [9.13160446e-04],\n",
       "       [1.87859413e-07],\n",
       "       [1.40139709e-05],\n",
       "       [4.07507569e-01],\n",
       "       [9.93583560e-01],\n",
       "       [6.02328510e-06],\n",
       "       [6.98215723e-01],\n",
       "       [9.99999940e-01],\n",
       "       [9.45211709e-01],\n",
       "       [2.60426532e-05],\n",
       "       [4.15434897e-06],\n",
       "       [6.98215723e-01],\n",
       "       [6.61004742e-05],\n",
       "       [9.73835170e-01],\n",
       "       [5.26406569e-04],\n",
       "       [1.00000000e+00],\n",
       "       [7.41488260e-10],\n",
       "       [7.18122537e-05],\n",
       "       [2.52725258e-02],\n",
       "       [6.98215723e-01],\n",
       "       [6.98215723e-01],\n",
       "       [9.99847174e-01],\n",
       "       [5.66781759e-01],\n",
       "       [1.05328809e-06],\n",
       "       [9.99988556e-01],\n",
       "       [6.98215723e-01],\n",
       "       [9.99996066e-01],\n",
       "       [1.98681939e-11],\n",
       "       [6.98215723e-01],\n",
       "       [6.98215723e-01],\n",
       "       [6.81611851e-08],\n",
       "       [6.98215723e-01],\n",
       "       [1.58705952e-04],\n",
       "       [6.86296821e-03],\n",
       "       [4.47345940e-07],\n",
       "       [2.46498548e-05],\n",
       "       [9.27604020e-01],\n",
       "       [1.00000000e+00],\n",
       "       [9.99853492e-01],\n",
       "       [3.85432970e-04],\n",
       "       [9.99995589e-01],\n",
       "       [1.00000000e+00],\n",
       "       [9.99975741e-01],\n",
       "       [8.16669405e-01],\n",
       "       [2.68484611e-04],\n",
       "       [5.88744123e-11],\n",
       "       [6.90693930e-02],\n",
       "       [9.99997020e-01],\n",
       "       [2.11719010e-11],\n",
       "       [9.20905948e-01],\n",
       "       [1.00000000e+00],\n",
       "       [4.49030194e-05],\n",
       "       [4.10867902e-03],\n",
       "       [1.00000000e+00],\n",
       "       [6.98215723e-01],\n",
       "       [8.24966669e-01],\n",
       "       [6.34118805e-06],\n",
       "       [4.58374503e-04],\n",
       "       [1.04320459e-01],\n",
       "       [6.39314473e-01],\n",
       "       [2.25424515e-06],\n",
       "       [5.87634072e-02],\n",
       "       [9.92433131e-01],\n",
       "       [6.98215723e-01],\n",
       "       [4.26472442e-13],\n",
       "       [7.76243284e-02],\n",
       "       [9.63850226e-08],\n",
       "       [9.27381158e-01],\n",
       "       [9.99383986e-01],\n",
       "       [1.11235259e-03],\n",
       "       [3.65075581e-02],\n",
       "       [9.99881387e-01],\n",
       "       [9.99999821e-01],\n",
       "       [9.99280512e-01],\n",
       "       [9.98003423e-01],\n",
       "       [2.94200152e-01],\n",
       "       [2.49916951e-07],\n",
       "       [9.99999642e-01],\n",
       "       [7.39259440e-06],\n",
       "       [4.70258166e-10],\n",
       "       [2.68193841e-01],\n",
       "       [9.99873996e-01],\n",
       "       [1.99062492e-06],\n",
       "       [1.22832653e-05],\n",
       "       [7.90156484e-01],\n",
       "       [1.25672920e-02],\n",
       "       [3.57070342e-02],\n",
       "       [9.99665201e-01],\n",
       "       [9.99959707e-01],\n",
       "       [9.93571699e-01],\n",
       "       [3.56022489e-10],\n",
       "       [9.41311002e-01],\n",
       "       [9.99994755e-01],\n",
       "       [9.99990344e-01],\n",
       "       [7.30516389e-03],\n",
       "       [6.98215723e-01],\n",
       "       [8.01814076e-06],\n",
       "       [6.98215723e-01],\n",
       "       [9.99817550e-01],\n",
       "       [6.50728055e-07],\n",
       "       [2.08150832e-05],\n",
       "       [9.99999285e-01],\n",
       "       [1.25581691e-05],\n",
       "       [9.57436025e-01],\n",
       "       [1.00000000e+00],\n",
       "       [9.99999166e-01],\n",
       "       [9.25630987e-01],\n",
       "       [6.49986625e-01],\n",
       "       [6.98215723e-01],\n",
       "       [8.14663768e-01],\n",
       "       [9.61007059e-01],\n",
       "       [6.98215723e-01],\n",
       "       [9.90974545e-01],\n",
       "       [5.20204594e-06],\n",
       "       [9.99998271e-01],\n",
       "       [9.95016038e-01],\n",
       "       [1.00000000e+00],\n",
       "       [1.00000000e+00],\n",
       "       [9.48593259e-01],\n",
       "       [6.98215723e-01],\n",
       "       [2.63519695e-07],\n",
       "       [1.25306651e-01],\n",
       "       [3.46534819e-07],\n",
       "       [5.96724600e-02],\n",
       "       [5.64599068e-05],\n",
       "       [2.84383583e-09],\n",
       "       [2.13892792e-09],\n",
       "       [6.98215723e-01],\n",
       "       [7.20832206e-04],\n",
       "       [1.00000000e+00],\n",
       "       [6.98215723e-01],\n",
       "       [6.98215723e-01],\n",
       "       [1.00000000e+00],\n",
       "       [6.98215723e-01],\n",
       "       [5.73923886e-01],\n",
       "       [8.96511018e-01],\n",
       "       [5.23838862e-05],\n",
       "       [9.99999940e-01],\n",
       "       [6.98215723e-01],\n",
       "       [6.98215723e-01],\n",
       "       [1.00000000e+00],\n",
       "       [6.98215723e-01],\n",
       "       [1.43834355e-03],\n",
       "       [6.98215723e-01],\n",
       "       [8.77657582e-12],\n",
       "       [6.98215723e-01],\n",
       "       [6.98215723e-01],\n",
       "       [9.54165399e-01],\n",
       "       [9.99852479e-01],\n",
       "       [3.93884984e-05],\n",
       "       [4.32754541e-03],\n",
       "       [8.50287795e-01],\n",
       "       [6.98215723e-01],\n",
       "       [1.18488751e-04],\n",
       "       [9.96548295e-01],\n",
       "       [6.98215723e-01],\n",
       "       [9.99999821e-01],\n",
       "       [8.18149328e-01],\n",
       "       [6.77415082e-05],\n",
       "       [4.37932286e-08],\n",
       "       [6.98215723e-01],\n",
       "       [3.84110278e-13],\n",
       "       [3.28595570e-06],\n",
       "       [6.98215723e-01],\n",
       "       [9.99997437e-01],\n",
       "       [9.99118129e-07],\n",
       "       [1.70068990e-04],\n",
       "       [1.99216044e-09],\n",
       "       [1.09747322e-02],\n",
       "       [1.00000000e+00],\n",
       "       [6.98215723e-01],\n",
       "       [6.98215723e-01],\n",
       "       [5.84930420e-01],\n",
       "       [5.21389332e-08],\n",
       "       [9.99999642e-01],\n",
       "       [8.56074810e-01],\n",
       "       [4.63601495e-08],\n",
       "       [9.96698022e-01],\n",
       "       [1.64456778e-05],\n",
       "       [9.99999940e-01],\n",
       "       [6.98215723e-01],\n",
       "       [9.85162079e-01],\n",
       "       [2.43473519e-02],\n",
       "       [7.80509831e-03],\n",
       "       [9.99985099e-01],\n",
       "       [3.95375622e-07],\n",
       "       [9.99853313e-01],\n",
       "       [3.57310728e-06],\n",
       "       [6.98215723e-01],\n",
       "       [2.74928219e-10],\n",
       "       [1.87547691e-02],\n",
       "       [9.99998152e-01],\n",
       "       [6.15686599e-11],\n",
       "       [9.99965727e-01],\n",
       "       [2.14546714e-11],\n",
       "       [2.66185664e-02],\n",
       "       [6.98215723e-01],\n",
       "       [1.56969634e-07],\n",
       "       [1.34103611e-01],\n",
       "       [1.53527893e-07],\n",
       "       [1.00000000e+00],\n",
       "       [1.85356180e-06],\n",
       "       [9.99103963e-01],\n",
       "       [1.00000000e+00],\n",
       "       [6.98215723e-01],\n",
       "       [9.92261469e-01],\n",
       "       [1.91357412e-05],\n",
       "       [6.98215723e-01],\n",
       "       [6.98215723e-01],\n",
       "       [6.56362941e-12],\n",
       "       [1.25299528e-01],\n",
       "       [9.99999702e-01],\n",
       "       [1.01428721e-09],\n",
       "       [1.39082186e-02],\n",
       "       [5.14541529e-02],\n",
       "       [1.50051052e-02],\n",
       "       [6.98215723e-01],\n",
       "       [9.97329116e-01],\n",
       "       [9.99626637e-01],\n",
       "       [1.54975889e-04],\n",
       "       [5.83734233e-13],\n",
       "       [9.99555349e-01],\n",
       "       [6.98215723e-01],\n",
       "       [3.84907025e-06],\n",
       "       [9.41114724e-01],\n",
       "       [2.01965347e-01],\n",
       "       [7.41824137e-12],\n",
       "       [2.27306038e-02],\n",
       "       [9.90435183e-02],\n",
       "       [9.98882532e-01],\n",
       "       [9.99996543e-01],\n",
       "       [9.99999166e-01],\n",
       "       [6.98215723e-01],\n",
       "       [9.34048593e-01],\n",
       "       [2.16766548e-05],\n",
       "       [3.12583559e-08],\n",
       "       [2.07149438e-04],\n",
       "       [1.10150861e-13],\n",
       "       [1.41445622e-01],\n",
       "       [9.54420686e-01],\n",
       "       [3.93697644e-11],\n",
       "       [9.99107361e-01],\n",
       "       [1.36624789e-03],\n",
       "       [3.19091901e-02],\n",
       "       [1.16014453e-02],\n",
       "       [1.57485172e-01],\n",
       "       [9.99974608e-01],\n",
       "       [1.83003291e-01],\n",
       "       [6.98215723e-01],\n",
       "       [6.98215723e-01],\n",
       "       [7.99318016e-01],\n",
       "       [9.99999225e-01],\n",
       "       [2.33484032e-09],\n",
       "       [6.98215723e-01],\n",
       "       [6.98215723e-01],\n",
       "       [6.98215723e-01],\n",
       "       [9.99994218e-01],\n",
       "       [6.98215723e-01],\n",
       "       [2.49427452e-04],\n",
       "       [5.05460484e-05],\n",
       "       [9.12522197e-01],\n",
       "       [3.54609527e-02],\n",
       "       [3.22283187e-04],\n",
       "       [6.98215723e-01],\n",
       "       [6.92339778e-01],\n",
       "       [9.99998629e-01],\n",
       "       [3.79492178e-07],\n",
       "       [1.00000000e+00],\n",
       "       [9.93806601e-01],\n",
       "       [1.90018554e-07],\n",
       "       [2.51807819e-08],\n",
       "       [6.98215723e-01],\n",
       "       [3.67287010e-01],\n",
       "       [3.01773893e-04],\n",
       "       [9.99991179e-01],\n",
       "       [1.37003473e-12],\n",
       "       [7.12657780e-11],\n",
       "       [1.91906671e-04],\n",
       "       [6.98215723e-01],\n",
       "       [6.66163743e-01],\n",
       "       [8.96384790e-06],\n",
       "       [1.00000000e+00],\n",
       "       [6.98215723e-01],\n",
       "       [9.99014258e-01],\n",
       "       [6.98215723e-01],\n",
       "       [2.02267393e-01],\n",
       "       [6.98215723e-01],\n",
       "       [9.82965648e-01],\n",
       "       [6.22043211e-04],\n",
       "       [9.99709845e-01],\n",
       "       [3.16549017e-06],\n",
       "       [9.99978721e-01],\n",
       "       [6.98215723e-01],\n",
       "       [1.27883628e-01],\n",
       "       [1.10802459e-04],\n",
       "       [9.99963999e-01],\n",
       "       [1.59080559e-03],\n",
       "       [5.74995339e-01],\n",
       "       [6.98215723e-01],\n",
       "       [6.98215723e-01],\n",
       "       [4.89114551e-04],\n",
       "       [6.98215723e-01],\n",
       "       [9.76387203e-01],\n",
       "       [3.34324523e-06],\n",
       "       [6.98215723e-01],\n",
       "       [1.00000000e+00],\n",
       "       [9.99951363e-01],\n",
       "       [1.03884146e-01],\n",
       "       [4.04158413e-08],\n",
       "       [9.99888599e-01],\n",
       "       [4.35648653e-12],\n",
       "       [2.31874878e-06],\n",
       "       [6.98215723e-01],\n",
       "       [9.95999336e-01],\n",
       "       [2.33364446e-07],\n",
       "       [9.99999940e-01],\n",
       "       [6.98215723e-01],\n",
       "       [6.98215723e-01],\n",
       "       [9.71334994e-01],\n",
       "       [4.85013098e-01],\n",
       "       [6.98215723e-01],\n",
       "       [6.09774434e-04],\n",
       "       [3.49327649e-07],\n",
       "       [9.96076465e-01],\n",
       "       [6.49173036e-02],\n",
       "       [5.08097887e-01],\n",
       "       [6.98215723e-01],\n",
       "       [6.98215723e-01],\n",
       "       [7.57655859e-01],\n",
       "       [9.35089556e-05],\n",
       "       [1.66600833e-09],\n",
       "       [2.71481008e-06],\n",
       "       [6.98215723e-01],\n",
       "       [6.98215723e-01],\n",
       "       [1.50076520e-08],\n",
       "       [6.28788210e-03],\n",
       "       [6.98215723e-01],\n",
       "       [8.90868962e-01],\n",
       "       [6.34966000e-06],\n",
       "       [2.69108259e-05],\n",
       "       [1.00000000e+00],\n",
       "       [2.98868099e-06],\n",
       "       [2.92298075e-10],\n",
       "       [1.60697906e-04],\n",
       "       [7.68424332e-01],\n",
       "       [9.99967694e-01],\n",
       "       [3.18322635e-09],\n",
       "       [9.46382165e-01],\n",
       "       [6.13158723e-15],\n",
       "       [1.25299528e-01],\n",
       "       [9.99824107e-01],\n",
       "       [3.07594039e-09],\n",
       "       [1.72838936e-05],\n",
       "       [7.14460075e-01],\n",
       "       [4.72167945e-14],\n",
       "       [3.42154283e-14],\n",
       "       [1.14911225e-09],\n",
       "       [9.99266505e-01],\n",
       "       [6.98215723e-01],\n",
       "       [1.42478915e-02],\n",
       "       [9.12319374e-05],\n",
       "       [8.34356740e-07],\n",
       "       [1.64625224e-14],\n",
       "       [9.41311002e-01]], dtype=float32)"
      ]
     },
     "execution_count": 55,
     "metadata": {},
     "output_type": "execute_result"
    }
   ],
   "source": [
    "newmodel.predict(X_test)"
   ]
  }
 ],
 "metadata": {
  "kernelspec": {
   "display_name": "Python 3 (ipykernel)",
   "language": "python",
   "name": "python3"
  },
  "language_info": {
   "codemirror_mode": {
    "name": "ipython",
    "version": 3
   },
   "file_extension": ".py",
   "mimetype": "text/x-python",
   "name": "python",
   "nbconvert_exporter": "python",
   "pygments_lexer": "ipython3",
   "version": "3.11.7"
  }
 },
 "nbformat": 4,
 "nbformat_minor": 5
}
